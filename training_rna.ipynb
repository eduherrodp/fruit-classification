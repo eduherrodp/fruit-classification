{
 "cells": [
  {
   "cell_type": "code",
   "execution_count": null,
   "id": "19eb7312-0959-4a55-9cd3-38087f4e03a1",
   "metadata": {},
   "outputs": [],
   "source": [
    "import numpy as np\n",
    "from sklearn.neural_network import MLPClassifier\n",
    "import joblib"
   ]
  },
  {
   "cell_type": "code",
   "execution_count": null,
   "id": "7eadcba8-9718-41a5-ab7a-570acfef1b5d",
   "metadata": {},
   "outputs": [],
   "source": [
    "# Cargar las características y las etiquetas de entrenamiento\n",
    "features = np.loadtxt('caracteristicas.csv', delimiter=',')\n",
    "labels = np.loadtxt('labels.txt')"
   ]
  },
  {
   "cell_type": "code",
   "execution_count": null,
   "id": "c4417d9a-39a7-465d-a194-1709cde55db7",
   "metadata": {},
   "outputs": [],
   "source": [
    "# Crear y entrenar la red neuronal\n",
    "clf = MLPClassifier(hidden_layer_sizes=(100,), max_iter=1000, verbose=True)\n",
    "clf.fit(features, labels)"
   ]
  },
  {
   "cell_type": "code",
   "execution_count": null,
   "id": "cb1dba2b-67f9-4a3a-8690-2acf0e9af6c7",
   "metadata": {},
   "outputs": [],
   "source": [
    "# Guardar el modelo entrenado\n",
    "model_filename = 'modelo_entrenado.pk1'\n",
    "joblib.dump(clf, model_filename)\n",
    "\n",
    "print(\"Entrenamiento compeltado y modelo guardado.\")"
   ]
  },
  {
   "cell_type": "code",
   "execution_count": null,
   "id": "30e8ef3f-0539-439a-97f9-cae4fa4255f1",
   "metadata": {},
   "outputs": [],
   "source": [
    "# Estadísticas de entrenamiento\n",
    "print(\"Estadísticas de entrenamiento:\")\n",
    "print(\"Número de iteraciones:\", clf.n_iter_)\n",
    "print(\"Pérdida final:\", clf.loss_)\n",
    "print(\"Precisión en el conjunto de entrenamiento:\", clf.score(features, labels))"
   ]
  },
  {
   "cell_type": "code",
   "execution_count": null,
   "id": "433348a3-8160-4605-bb66-96af3b6d2edd",
   "metadata": {},
   "outputs": [],
   "source": []
  }
 ],
 "metadata": {
  "kernelspec": {
   "display_name": "Python 3 (ipykernel)",
   "language": "python",
   "name": "python3"
  },
  "language_info": {
   "codemirror_mode": {
    "name": "ipython",
    "version": 3
   },
   "file_extension": ".py",
   "mimetype": "text/x-python",
   "name": "python",
   "nbconvert_exporter": "python",
   "pygments_lexer": "ipython3",
   "version": "3.8.16"
  }
 },
 "nbformat": 4,
 "nbformat_minor": 5
}
