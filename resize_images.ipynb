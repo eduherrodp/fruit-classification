{
 "cells": [
  {
   "cell_type": "markdown",
   "id": "06156ec0-94bf-4097-b612-346703ba68e6",
   "metadata": {},
   "source": [
    "### Código para recortar y estandarizar medidas del dataset"
   ]
  },
  {
   "cell_type": "code",
   "execution_count": null,
   "id": "f09a4886-4ddd-4cc0-b8b4-1b4ee22e5e86",
   "metadata": {},
   "outputs": [],
   "source": [
    "# Libterías necesarias\n",
    "import os\n",
    "import glob\n",
    "from PIL import Image, ImageDraw, ImageFilter"
   ]
  },
  {
   "cell_type": "code",
   "execution_count": null,
   "id": "4ab270dd-9a34-4726-81f6-f396235f2818",
   "metadata": {},
   "outputs": [],
   "source": [
    "def crop_center(pil_img, crop_width, crop_height):\n",
    "    img_width, img_height = pil_img.size\n",
    "    return pil_img.crop(((img_width - crop_width) // 2,\n",
    "                         (img_height - crop_height) // 2,\n",
    "                         (img_width + crop_width) // 2,\n",
    "                         (img_height + crop_height) // 2))\n",
    "def crop_max_square(pil_img):\n",
    "    return crop_center(pil_img, min(pil_img.size), min(pil_img.size))"
   ]
  },
  {
   "cell_type": "code",
   "execution_count": null,
   "id": "8d2cbf51-df67-4d8a-ae99-9701ccb48d54",
   "metadata": {},
   "outputs": [],
   "source": [
    "path = os.getcwd()+'\\\\fruit_dataset'\n",
    "print(path)"
   ]
  },
  {
   "cell_type": "code",
   "execution_count": null,
   "id": "32455ad6-cc4c-4ae9-9fe3-ee62eebcb1d7",
   "metadata": {},
   "outputs": [],
   "source": [
    "thumb_width = 256\n",
    "# Obtenemos el directorio de las carpetas\n",
    "list = os.listdir(path)"
   ]
  },
  {
   "cell_type": "markdown",
   "id": "9db28f45-4f22-45e7-b45a-fca452f9b69e",
   "metadata": {},
   "source": [
    "#### Proceso de recorte"
   ]
  },
  {
   "cell_type": "code",
   "execution_count": null,
   "id": "0cc3acca-b944-47e3-a9f2-d062f2b07aee",
   "metadata": {},
   "outputs": [],
   "source": [
    "for i in range(len(list)):\n",
    "    # Obtenemos la lista de imagenes de cada carpeta\n",
    "    images =  os.listdir(path+'\\\\'+list[i])\n",
    "    # Nos movemos al directorio (solo ejecutar una vez)\n",
    "    os.chdir(path+'\\\\'+list[i])\n",
    "    for j in range (len(images)):\n",
    "            im = Image.open(images[j])\n",
    "            print(\"recortando: \"+images[j]+\"ruta: \"+list[i])\n",
    "            im_thumb = crop_max_square(im).resize((thumb_width, thumb_width), Image.LANCZOS)\n",
    "            \n",
    "            im_thumb.save(images[j], quality=95)\n",
    "\n",
    "        # Regresamos a la carpeta de origen\n",
    "    os.chdir(path)\n",
    "\n",
    "print(\"Proceso de renombrado correcto!\")\n",
    "print(images)   "
   ]
  }
 ],
 "metadata": {
  "kernelspec": {
   "display_name": "Python 3 (ipykernel)",
   "language": "python",
   "name": "python3"
  },
  "language_info": {
   "codemirror_mode": {
    "name": "ipython",
    "version": 3
   },
   "file_extension": ".py",
   "mimetype": "text/x-python",
   "name": "python",
   "nbconvert_exporter": "python",
   "pygments_lexer": "ipython3",
   "version": "3.8.16"
  }
 },
 "nbformat": 4,
 "nbformat_minor": 5
}
