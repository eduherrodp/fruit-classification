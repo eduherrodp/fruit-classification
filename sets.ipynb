{
 "cells": [
  {
   "cell_type": "markdown",
   "id": "23f92d56-c28f-42f2-bfcf-4b9c65895332",
   "metadata": {},
   "source": [
    "### Código para dividir el dataset original en \"training\" y en \"test\""
   ]
  },
  {
   "cell_type": "code",
   "execution_count": 3,
   "id": "1ccc3b96-ba74-49fd-b2ea-63aa4f35dbc9",
   "metadata": {},
   "outputs": [],
   "source": [
    "# Bibliotecas necesarias para el manejo de archivos y directorios, \n",
    "# así como para generar números aleatorios y mover archivos\n",
    "import os\n",
    "import random\n",
    "import shutil"
   ]
  },
  {
   "cell_type": "code",
   "execution_count": null,
   "id": "eede4cc8-430d-4689-8ed0-8119eaa509a9",
   "metadata": {},
   "outputs": [],
   "source": [
    "path = 'fruit_dataset'"
   ]
  },
  {
   "cell_type": "code",
   "execution_count": null,
   "id": "a0d847b0-df83-4e5c-8481-e6e8c5234781",
   "metadata": {},
   "outputs": [],
   "source": [
    "# Obtenemos una lista de todos los archivos y directorios\n",
    "list = os.listdir(path)\n",
    "training_set_index = random.sample(list, 800)\n",
    "len(tranining_set_index)"
   ]
  },
  {
   "cell_type": "code",
   "execution_count": null,
   "id": "11582552-36d1-4928-8cf8-4a0f5658398c",
   "metadata": {},
   "outputs": [],
   "source": [
    "# Crear directorio de entrenamiento y mover archivos\n",
    "os.chdir(path)\n",
    "os.mkdir('training')\n",
    "for i in range(len(training_set_index)):\n",
    "    shutil.move(training_set_index[i], 'training')"
   ]
  },
  {
   "cell_type": "code",
   "execution_count": null,
   "id": "3b58bd29-e015-490f-8c1f-30c4df1e9337",
   "metadata": {},
   "outputs": [],
   "source": [
    "test_set_index = os.listdir()\n",
    "test_set_index = test_set_index[:-1]"
   ]
  },
  {
   "cell_type": "code",
   "execution_count": null,
   "id": "d8b37571-faaf-4715-93fa-95b7842c9a13",
   "metadata": {},
   "outputs": [],
   "source": [
    "# Crear directorio de prueba y mover archivos\n",
    "os.mkdir('test')\n",
    "for i in range(len(test_set_index)):\n",
    "    shutil.move(test_set_index[i], 'test')"
   ]
  }
 ],
 "metadata": {
  "kernelspec": {
   "display_name": "Python 3 (ipykernel)",
   "language": "python",
   "name": "python3"
  },
  "language_info": {
   "codemirror_mode": {
    "name": "ipython",
    "version": 3
   },
   "file_extension": ".py",
   "mimetype": "text/x-python",
   "name": "python",
   "nbconvert_exporter": "python",
   "pygments_lexer": "ipython3",
   "version": "3.8.16"
  }
 },
 "nbformat": 4,
 "nbformat_minor": 5
}
