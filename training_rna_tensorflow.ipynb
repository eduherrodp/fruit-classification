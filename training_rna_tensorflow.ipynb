{
 "cells": [
  {
   "cell_type": "code",
   "execution_count": null,
   "id": "eec1e2e8-ce77-40ae-8b92-ee5ba23d9cfc",
   "metadata": {},
   "outputs": [],
   "source": [
    "import numpy as np\n",
    "import tensorflow as tf\n",
    "from sklearn.model_selection import train_test_split"
   ]
  },
  {
   "cell_type": "code",
   "execution_count": null,
   "id": "dea0ec5d-2723-48b5-a9ae-50c761c3d1bd",
   "metadata": {},
   "outputs": [],
   "source": [
    "# Cargar los datos de características y etiquetas\n",
    "features_train = np.loadtxt('caracteristicas_train.csv', delimiter=',')\n",
    "labels_train = np.loadtxt('labels_train.txt')\n",
    "\n",
    "features_test = np.loadtxt('caracteristicas_test.csv', delimiter=',')\n",
    "labels_test = np.loadtxt('labels_test.txt')"
   ]
  },
  {
   "cell_type": "code",
   "execution_count": null,
   "id": "73eb1fe9-740b-40d6-b2ad-76c8b162087b",
   "metadata": {},
   "outputs": [],
   "source": [
    "# Obtener la dimensión de entrada\n",
    "input_dim = features_train.shape[1]"
   ]
  },
  {
   "cell_type": "code",
   "execution_count": null,
   "id": "35dd3ddc-fbe6-4cb2-b6a1-c4ef522b81d1",
   "metadata": {},
   "outputs": [],
   "source": [
    "# Definir la arquitectura de la red neuronal\n",
    "model = tf.keras.models.Sequential([\n",
    "    tf.keras.layers.Dense(64, activation='relu', input_shape=(input_dim,)),\n",
    "    tf.keras.layers.Dense(64, activation='relu'),\n",
    "    tf.keras.layers.Dense(1, activation='sigmoid')\n",
    "])"
   ]
  },
  {
   "cell_type": "code",
   "execution_count": null,
   "id": "77f4d46d-f969-49b9-9843-78417a07eaab",
   "metadata": {},
   "outputs": [],
   "source": [
    "# Compilar el modelo\n",
    "model.compile(optimizer='adam',\n",
    "              loss='binary_crossentropy',\n",
    "              metrics=['accuracy'])"
   ]
  },
  {
   "cell_type": "code",
   "execution_count": null,
   "id": "42033805-d687-4d93-9d31-7bfaef35f148",
   "metadata": {},
   "outputs": [],
   "source": [
    "# Entrenar el modelo\n",
    "history = model.fit(features_train, labels_train, epochs=50, batch_size=32, validation_data=(features_test, labels_test))"
   ]
  },
  {
   "cell_type": "code",
   "execution_count": null,
   "id": "fed06410-f0be-4666-84cb-2b0919571664",
   "metadata": {},
   "outputs": [],
   "source": [
    "# Obtener estadísticas de entrenamiento\n",
    "num_iterations = len(history.history['loss'])\n",
    "final_loss = history.history['loss'][-1]\n",
    "final_accuracy = history.history['accuracy'][-1]"
   ]
  },
  {
   "cell_type": "code",
   "execution_count": null,
   "id": "06b43692-4a62-400d-9464-0d00c2c80c96",
   "metadata": {},
   "outputs": [],
   "source": [
    "# Imprimir estadísticas de entrenamiento\n",
    "print('Número de iteraciones:', num_iterations)\n",
    "print('Pérdida final:', final_loss)\n",
    "print('Precisión final en el conjunto de entrenamiento:', final_accuracy)"
   ]
  },
  {
   "cell_type": "code",
   "execution_count": null,
   "id": "c82d48b8-b8da-43e0-a25a-9e8346be8d7c",
   "metadata": {},
   "outputs": [],
   "source": []
  }
 ],
 "metadata": {
  "kernelspec": {
   "display_name": "Python 3 (ipykernel)",
   "language": "python",
   "name": "python3"
  },
  "language_info": {
   "codemirror_mode": {
    "name": "ipython",
    "version": 3
   },
   "file_extension": ".py",
   "mimetype": "text/x-python",
   "name": "python",
   "nbconvert_exporter": "python",
   "pygments_lexer": "ipython3",
   "version": "3.8.16"
  }
 },
 "nbformat": 4,
 "nbformat_minor": 5
}
